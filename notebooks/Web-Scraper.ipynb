{
 "cells": [
  {
   "cell_type": "code",
   "execution_count": 3,
   "metadata": {},
   "outputs": [],
   "source": [
    "from bs4 import BeautifulSoup\n",
    "import requests\n",
    "import shutil\n"
   ]
  },
  {
   "cell_type": "code",
   "execution_count": 21,
   "metadata": {},
   "outputs": [],
   "source": [
    "download_image_url(url=\"https://www.formula1.com/content/dam/fom-website/drivers/L/LANNOR01_Lando_Norris/lannor01.png.transform/2col/image.png\",\n",
    "                  path=\"test.png\")"
   ]
  },
  {
   "cell_type": "code",
   "execution_count": 20,
   "metadata": {},
   "outputs": [],
   "source": [
    "def download_image_url(url:str, path:str)->bool:\n",
    "    \"\"\"\n",
    "    Downloads an image from the supplid URL and saves it to path.\n",
    "    \"\"\"\n",
    "    response = requests.get(url)\n",
    "\n",
    "\n",
    "    file = open(path, \"wb\")\n",
    "\n",
    "    file.write(response.content)\n",
    "\n",
    "    file.close()"
   ]
  },
  {
   "cell_type": "code",
   "execution_count": 24,
   "metadata": {},
   "outputs": [],
   "source": [
    "r = requests.get('https://www.formula1.com/en/drivers.html')\n",
    "soup = BeautifulSoup(r.content, 'html.parser')\n",
    "wrapper = soup.select(\".container.listing-items--wrapper.driver.during-season\")[0]\n",
    "\n",
    "drivers = []\n",
    "for i, driver_el in enumerate(wrapper.select(\".listing-item--link\")):\n",
    "    driver_dict = dict()\n",
    "    driver_dict['link'] = driver_el['href']\n",
    "    driver_dict['rank'] = driver_el.select(\".rank\")[0].text\n",
    "    driver_dict['points'] = driver_el.select(\".points\")[0].select('.f1-wide--s')[0].text\n",
    "    driver_dict['first_name'] = driver_el.select(\".listing-item--name\")[0].select('span')[0].text\n",
    "    driver_dict['second_name'] = driver_el.select(\".listing-item--name\")[0].select('span')[1].text\n",
    "    \n",
    "    try:\n",
    "        driver_dict['flag_uri'] = driver_el.select(\".country-flag\")[0].select('source')[0]['data-srcset']\n",
    "        \n",
    "        flag_url = f\"./images/{driver_dict['first_name'].lower()}_{driver_dict['second_name'].lower()}_flag.png\"\n",
    "        driver_dict[\"local_flag_ur\"] = flag_url\n",
    "        download_image_url(\n",
    "            url=driver_dict['flag_uri'].split(', ')[1][:-3], \n",
    "            path=flag_url)\n",
    "    except IndexError:\n",
    "        driver_dict[\"local_flag_ur\"] = None\n",
    "        driver_dict['flag_uri'] = None\n",
    "    \n",
    "    driver_dict['team'] = driver_el.select(\".listing-item--team\")[0].text\n",
    "    driver_dict['driver_image_uri'] = driver_el.select(\".listing-item--image-wrapper\")[0].select('source')[0]['data-srcset']\n",
    "    driver_dict['driver_number_uri'] = driver_el.select(\".listing-item--number\")[0].select('source')[0]['data-srcset']\n",
    "    \n",
    "    # Download the images     \n",
    "    local_image_uri = f\"./images/{driver_dict['first_name'].lower()}_{driver_dict['second_name'].lower()}_image.png\"\n",
    "    download_image_url(\n",
    "        url=driver_dict['driver_image_uri'].split(', ')[1][:-3], \n",
    "        path=local_image_uri)\n",
    "    driver_dict[\"local_driver_image_uri\"] = local_image_uri\n",
    "    local_driver_number_uri = f\"./images/{driver_dict['first_name'].lower()}_{driver_dict['second_name'].lower()}_number.png\"\n",
    "    download_image_url(\n",
    "        url=driver_dict['driver_number_uri'].split(', ')[1][:-3], \n",
    "        path=local_driver_number_uri)\n",
    "    driver_dict[\"local_driver_flag_uri\"] = local_driver_number_uri\n",
    "    \n",
    "\n",
    "    drivers.append(driver_dict)"
   ]
  },
  {
   "cell_type": "code",
   "execution_count": 25,
   "metadata": {},
   "outputs": [],
   "source": [
    "import pandas as pd\n",
    "drivers = pd.DataFrame(drivers)\n",
    "drivers.to_csv(\"driver_data_from_f1.com.2021.10.03.csv\", index=False)"
   ]
  },
  {
   "cell_type": "code",
   "execution_count": 15,
   "metadata": {},
   "outputs": [],
   "source": []
  },
  {
   "cell_type": "code",
   "execution_count": null,
   "metadata": {},
   "outputs": [],
   "source": []
  }
 ],
 "metadata": {
  "kernelspec": {
   "display_name": "formula1",
   "language": "python",
   "name": "formula1"
  },
  "language_info": {
   "codemirror_mode": {
    "name": "ipython",
    "version": 3
   },
   "file_extension": ".py",
   "mimetype": "text/x-python",
   "name": "python",
   "nbconvert_exporter": "python",
   "pygments_lexer": "ipython3",
   "version": "3.8.3"
  }
 },
 "nbformat": 4,
 "nbformat_minor": 2
}
